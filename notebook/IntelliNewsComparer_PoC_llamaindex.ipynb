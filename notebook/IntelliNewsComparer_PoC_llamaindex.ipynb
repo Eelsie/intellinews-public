{
  "cells": [
    {
      "cell_type": "code",
      "source": [
        "# install llamaindex, llamaindex azure-openai and embedding libraries\n",
        "!pip install -U -q llama-index llama-hub pypdf\n",
        "!pip install -U -q llama-index-embeddings-azure-openai\n",
        "!pip install -U -q llama-index-llms-azure-openai\n",
        "!pip install -U -q llama-index-embeddings-instructor\n",
        "!pip install llama-index-question-gen-guidance\n",
        "\n",
        "# install other utility libraries\n",
        "!pip install -U -q pypdf"
      ],
      "metadata": {
        "colab": {
          "base_uri": "https://localhost:8080/",
          "height": 1000
        },
        "id": "ujQ2rCrHbVMs",
        "outputId": "7b8733b7-5fba-48e0-f3c0-96fb6d173ecc",
        "collapsed": true
      },
      "execution_count": 29,
      "outputs": [
        {
          "output_type": "display_data",
          "data": {
            "text/plain": [
              "<IPython.core.display.HTML object>"
            ],
            "text/html": [
              "\n",
              "  <style>\n",
              "    pre {\n",
              "        white-space: pre-wrap;\n",
              "    }\n",
              "  </style>\n",
              "  "
            ]
          },
          "metadata": {}
        },
        {
          "output_type": "stream",
          "name": "stdout",
          "text": [
            "Collecting llama-index-question-gen-guidance\n",
            "  Downloading llama_index_question_gen_guidance-0.1.2-py3-none-any.whl (2.5 kB)\n",
            "Requirement already satisfied: llama-index-core<0.11.0,>=0.10.1 in /usr/local/lib/python3.10/dist-packages (from llama-index-question-gen-guidance) (0.10.43)\n",
            "Collecting llama-index-program-guidance<0.2.0,>=0.1.1 (from llama-index-question-gen-guidance)\n",
            "  Downloading llama_index_program_guidance-0.1.2-py3-none-any.whl (4.6 kB)\n",
            "Requirement already satisfied: PyYAML>=6.0.1 in /usr/local/lib/python3.10/dist-packages (from llama-index-core<0.11.0,>=0.10.1->llama-index-question-gen-guidance) (6.0.1)\n",
            "Requirement already satisfied: SQLAlchemy[asyncio]>=1.4.49 in /usr/local/lib/python3.10/dist-packages (from llama-index-core<0.11.0,>=0.10.1->llama-index-question-gen-guidance) (2.0.30)\n",
            "Requirement already satisfied: aiohttp<4.0.0,>=3.8.6 in /usr/local/lib/python3.10/dist-packages (from llama-index-core<0.11.0,>=0.10.1->llama-index-question-gen-guidance) (3.9.5)\n",
            "Requirement already satisfied: dataclasses-json in /usr/local/lib/python3.10/dist-packages (from llama-index-core<0.11.0,>=0.10.1->llama-index-question-gen-guidance) (0.6.7)\n",
            "Requirement already satisfied: deprecated>=1.2.9.3 in /usr/local/lib/python3.10/dist-packages (from llama-index-core<0.11.0,>=0.10.1->llama-index-question-gen-guidance) (1.2.14)\n",
            "Requirement already satisfied: dirtyjson<2.0.0,>=1.0.8 in /usr/local/lib/python3.10/dist-packages (from llama-index-core<0.11.0,>=0.10.1->llama-index-question-gen-guidance) (1.0.8)\n",
            "Requirement already satisfied: fsspec>=2023.5.0 in /usr/local/lib/python3.10/dist-packages (from llama-index-core<0.11.0,>=0.10.1->llama-index-question-gen-guidance) (2023.6.0)\n",
            "Requirement already satisfied: httpx in /usr/local/lib/python3.10/dist-packages (from llama-index-core<0.11.0,>=0.10.1->llama-index-question-gen-guidance) (0.27.0)\n",
            "Requirement already satisfied: llamaindex-py-client<0.2.0,>=0.1.18 in /usr/local/lib/python3.10/dist-packages (from llama-index-core<0.11.0,>=0.10.1->llama-index-question-gen-guidance) (0.1.19)\n",
            "Requirement already satisfied: nest-asyncio<2.0.0,>=1.5.8 in /usr/local/lib/python3.10/dist-packages (from llama-index-core<0.11.0,>=0.10.1->llama-index-question-gen-guidance) (1.6.0)\n",
            "Requirement already satisfied: networkx>=3.0 in /usr/local/lib/python3.10/dist-packages (from llama-index-core<0.11.0,>=0.10.1->llama-index-question-gen-guidance) (3.3)\n",
            "Requirement already satisfied: nltk<4.0.0,>=3.8.1 in /usr/local/lib/python3.10/dist-packages (from llama-index-core<0.11.0,>=0.10.1->llama-index-question-gen-guidance) (3.8.1)\n",
            "Requirement already satisfied: numpy in /usr/local/lib/python3.10/dist-packages (from llama-index-core<0.11.0,>=0.10.1->llama-index-question-gen-guidance) (1.25.2)\n",
            "Requirement already satisfied: openai>=1.1.0 in /usr/local/lib/python3.10/dist-packages (from llama-index-core<0.11.0,>=0.10.1->llama-index-question-gen-guidance) (1.33.0)\n",
            "Requirement already satisfied: pandas in /usr/local/lib/python3.10/dist-packages (from llama-index-core<0.11.0,>=0.10.1->llama-index-question-gen-guidance) (2.0.3)\n",
            "Requirement already satisfied: pillow>=9.0.0 in /usr/local/lib/python3.10/dist-packages (from llama-index-core<0.11.0,>=0.10.1->llama-index-question-gen-guidance) (9.4.0)\n",
            "Requirement already satisfied: requests>=2.31.0 in /usr/local/lib/python3.10/dist-packages (from llama-index-core<0.11.0,>=0.10.1->llama-index-question-gen-guidance) (2.31.0)\n",
            "Requirement already satisfied: tenacity<9.0.0,>=8.2.0 in /usr/local/lib/python3.10/dist-packages (from llama-index-core<0.11.0,>=0.10.1->llama-index-question-gen-guidance) (8.3.0)\n",
            "Requirement already satisfied: tiktoken>=0.3.3 in /usr/local/lib/python3.10/dist-packages (from llama-index-core<0.11.0,>=0.10.1->llama-index-question-gen-guidance) (0.7.0)\n",
            "Requirement already satisfied: tqdm<5.0.0,>=4.66.1 in /usr/local/lib/python3.10/dist-packages (from llama-index-core<0.11.0,>=0.10.1->llama-index-question-gen-guidance) (4.66.4)\n",
            "Requirement already satisfied: typing-extensions>=4.5.0 in /usr/local/lib/python3.10/dist-packages (from llama-index-core<0.11.0,>=0.10.1->llama-index-question-gen-guidance) (4.12.1)\n",
            "Requirement already satisfied: typing-inspect>=0.8.0 in /usr/local/lib/python3.10/dist-packages (from llama-index-core<0.11.0,>=0.10.1->llama-index-question-gen-guidance) (0.9.0)\n",
            "Requirement already satisfied: wrapt in /usr/local/lib/python3.10/dist-packages (from llama-index-core<0.11.0,>=0.10.1->llama-index-question-gen-guidance) (1.14.1)\n",
            "Collecting guidance<0.2.0,>=0.1.10 (from llama-index-program-guidance<0.2.0,>=0.1.1->llama-index-question-gen-guidance)\n",
            "  Downloading guidance-0.1.15-cp310-cp310-manylinux_2_17_x86_64.manylinux2014_x86_64.whl (239 kB)\n",
            "\u001b[2K     \u001b[90m━━━━━━━━━━━━━━━━━━━━━━━━━━━━━━━━━━━━━━━━\u001b[0m \u001b[32m239.7/239.7 kB\u001b[0m \u001b[31m5.6 MB/s\u001b[0m eta \u001b[36m0:00:00\u001b[0m\n",
            "\u001b[?25hRequirement already satisfied: aiosignal>=1.1.2 in /usr/local/lib/python3.10/dist-packages (from aiohttp<4.0.0,>=3.8.6->llama-index-core<0.11.0,>=0.10.1->llama-index-question-gen-guidance) (1.3.1)\n",
            "Requirement already satisfied: attrs>=17.3.0 in /usr/local/lib/python3.10/dist-packages (from aiohttp<4.0.0,>=3.8.6->llama-index-core<0.11.0,>=0.10.1->llama-index-question-gen-guidance) (23.2.0)\n",
            "Requirement already satisfied: frozenlist>=1.1.1 in /usr/local/lib/python3.10/dist-packages (from aiohttp<4.0.0,>=3.8.6->llama-index-core<0.11.0,>=0.10.1->llama-index-question-gen-guidance) (1.4.1)\n",
            "Requirement already satisfied: multidict<7.0,>=4.5 in /usr/local/lib/python3.10/dist-packages (from aiohttp<4.0.0,>=3.8.6->llama-index-core<0.11.0,>=0.10.1->llama-index-question-gen-guidance) (6.0.5)\n",
            "Requirement already satisfied: yarl<2.0,>=1.0 in /usr/local/lib/python3.10/dist-packages (from aiohttp<4.0.0,>=3.8.6->llama-index-core<0.11.0,>=0.10.1->llama-index-question-gen-guidance) (1.9.4)\n",
            "Requirement already satisfied: async-timeout<5.0,>=4.0 in /usr/local/lib/python3.10/dist-packages (from aiohttp<4.0.0,>=3.8.6->llama-index-core<0.11.0,>=0.10.1->llama-index-question-gen-guidance) (4.0.3)\n",
            "Collecting diskcache (from guidance<0.2.0,>=0.1.10->llama-index-program-guidance<0.2.0,>=0.1.1->llama-index-question-gen-guidance)\n",
            "  Downloading diskcache-5.6.3-py3-none-any.whl (45 kB)\n",
            "\u001b[2K     \u001b[90m━━━━━━━━━━━━━━━━━━━━━━━━━━━━━━━━━━━━━━━━\u001b[0m \u001b[32m45.5/45.5 kB\u001b[0m \u001b[31m7.4 MB/s\u001b[0m eta \u001b[36m0:00:00\u001b[0m\n",
            "\u001b[?25hCollecting ordered-set (from guidance<0.2.0,>=0.1.10->llama-index-program-guidance<0.2.0,>=0.1.1->llama-index-question-gen-guidance)\n",
            "  Downloading ordered_set-4.1.0-py3-none-any.whl (7.6 kB)\n",
            "Requirement already satisfied: platformdirs in /usr/local/lib/python3.10/dist-packages (from guidance<0.2.0,>=0.1.10->llama-index-program-guidance<0.2.0,>=0.1.1->llama-index-question-gen-guidance) (4.2.2)\n",
            "Collecting pyformlang (from guidance<0.2.0,>=0.1.10->llama-index-program-guidance<0.2.0,>=0.1.1->llama-index-question-gen-guidance)\n",
            "  Downloading pyformlang-1.0.10-py3-none-any.whl (126 kB)\n",
            "\u001b[2K     \u001b[90m━━━━━━━━━━━━━━━━━━━━━━━━━━━━━━━━━━━━━━━━\u001b[0m \u001b[32m126.8/126.8 kB\u001b[0m \u001b[31m8.6 MB/s\u001b[0m eta \u001b[36m0:00:00\u001b[0m\n",
            "\u001b[?25hRequirement already satisfied: protobuf in /usr/local/lib/python3.10/dist-packages (from guidance<0.2.0,>=0.1.10->llama-index-program-guidance<0.2.0,>=0.1.1->llama-index-question-gen-guidance) (3.20.3)\n",
            "Requirement already satisfied: pydantic in /usr/local/lib/python3.10/dist-packages (from guidance<0.2.0,>=0.1.10->llama-index-program-guidance<0.2.0,>=0.1.1->llama-index-question-gen-guidance) (2.7.3)\n",
            "Requirement already satisfied: anyio in /usr/local/lib/python3.10/dist-packages (from httpx->llama-index-core<0.11.0,>=0.10.1->llama-index-question-gen-guidance) (3.7.1)\n",
            "Requirement already satisfied: certifi in /usr/local/lib/python3.10/dist-packages (from httpx->llama-index-core<0.11.0,>=0.10.1->llama-index-question-gen-guidance) (2024.6.2)\n",
            "Requirement already satisfied: httpcore==1.* in /usr/local/lib/python3.10/dist-packages (from httpx->llama-index-core<0.11.0,>=0.10.1->llama-index-question-gen-guidance) (1.0.5)\n",
            "Requirement already satisfied: idna in /usr/local/lib/python3.10/dist-packages (from httpx->llama-index-core<0.11.0,>=0.10.1->llama-index-question-gen-guidance) (3.7)\n",
            "Requirement already satisfied: sniffio in /usr/local/lib/python3.10/dist-packages (from httpx->llama-index-core<0.11.0,>=0.10.1->llama-index-question-gen-guidance) (1.3.1)\n",
            "Requirement already satisfied: h11<0.15,>=0.13 in /usr/local/lib/python3.10/dist-packages (from httpcore==1.*->httpx->llama-index-core<0.11.0,>=0.10.1->llama-index-question-gen-guidance) (0.14.0)\n",
            "Requirement already satisfied: click in /usr/local/lib/python3.10/dist-packages (from nltk<4.0.0,>=3.8.1->llama-index-core<0.11.0,>=0.10.1->llama-index-question-gen-guidance) (8.1.7)\n",
            "Requirement already satisfied: joblib in /usr/local/lib/python3.10/dist-packages (from nltk<4.0.0,>=3.8.1->llama-index-core<0.11.0,>=0.10.1->llama-index-question-gen-guidance) (1.4.2)\n",
            "Requirement already satisfied: regex>=2021.8.3 in /usr/local/lib/python3.10/dist-packages (from nltk<4.0.0,>=3.8.1->llama-index-core<0.11.0,>=0.10.1->llama-index-question-gen-guidance) (2024.5.15)\n",
            "Requirement already satisfied: distro<2,>=1.7.0 in /usr/lib/python3/dist-packages (from openai>=1.1.0->llama-index-core<0.11.0,>=0.10.1->llama-index-question-gen-guidance) (1.7.0)\n",
            "Requirement already satisfied: charset-normalizer<4,>=2 in /usr/local/lib/python3.10/dist-packages (from requests>=2.31.0->llama-index-core<0.11.0,>=0.10.1->llama-index-question-gen-guidance) (3.3.2)\n",
            "Requirement already satisfied: urllib3<3,>=1.21.1 in /usr/local/lib/python3.10/dist-packages (from requests>=2.31.0->llama-index-core<0.11.0,>=0.10.1->llama-index-question-gen-guidance) (2.0.7)\n",
            "Requirement already satisfied: greenlet!=0.4.17 in /usr/local/lib/python3.10/dist-packages (from SQLAlchemy[asyncio]>=1.4.49->llama-index-core<0.11.0,>=0.10.1->llama-index-question-gen-guidance) (3.0.3)\n",
            "Requirement already satisfied: mypy-extensions>=0.3.0 in /usr/local/lib/python3.10/dist-packages (from typing-inspect>=0.8.0->llama-index-core<0.11.0,>=0.10.1->llama-index-question-gen-guidance) (1.0.0)\n",
            "Requirement already satisfied: marshmallow<4.0.0,>=3.18.0 in /usr/local/lib/python3.10/dist-packages (from dataclasses-json->llama-index-core<0.11.0,>=0.10.1->llama-index-question-gen-guidance) (3.21.3)\n",
            "Requirement already satisfied: python-dateutil>=2.8.2 in /usr/local/lib/python3.10/dist-packages (from pandas->llama-index-core<0.11.0,>=0.10.1->llama-index-question-gen-guidance) (2.8.2)\n",
            "Requirement already satisfied: pytz>=2020.1 in /usr/local/lib/python3.10/dist-packages (from pandas->llama-index-core<0.11.0,>=0.10.1->llama-index-question-gen-guidance) (2023.4)\n",
            "Requirement already satisfied: tzdata>=2022.1 in /usr/local/lib/python3.10/dist-packages (from pandas->llama-index-core<0.11.0,>=0.10.1->llama-index-question-gen-guidance) (2024.1)\n",
            "Requirement already satisfied: exceptiongroup in /usr/local/lib/python3.10/dist-packages (from anyio->httpx->llama-index-core<0.11.0,>=0.10.1->llama-index-question-gen-guidance) (1.2.1)\n",
            "Requirement already satisfied: packaging>=17.0 in /usr/local/lib/python3.10/dist-packages (from marshmallow<4.0.0,>=3.18.0->dataclasses-json->llama-index-core<0.11.0,>=0.10.1->llama-index-question-gen-guidance) (24.0)\n",
            "Requirement already satisfied: annotated-types>=0.4.0 in /usr/local/lib/python3.10/dist-packages (from pydantic->guidance<0.2.0,>=0.1.10->llama-index-program-guidance<0.2.0,>=0.1.1->llama-index-question-gen-guidance) (0.7.0)\n",
            "Requirement already satisfied: pydantic-core==2.18.4 in /usr/local/lib/python3.10/dist-packages (from pydantic->guidance<0.2.0,>=0.1.10->llama-index-program-guidance<0.2.0,>=0.1.1->llama-index-question-gen-guidance) (2.18.4)\n",
            "Requirement already satisfied: six>=1.5 in /usr/local/lib/python3.10/dist-packages (from python-dateutil>=2.8.2->pandas->llama-index-core<0.11.0,>=0.10.1->llama-index-question-gen-guidance) (1.16.0)\n",
            "Requirement already satisfied: pydot in /usr/local/lib/python3.10/dist-packages (from pyformlang->guidance<0.2.0,>=0.1.10->llama-index-program-guidance<0.2.0,>=0.1.1->llama-index-question-gen-guidance) (1.4.2)\n",
            "Requirement already satisfied: pyparsing>=2.1.4 in /usr/local/lib/python3.10/dist-packages (from pydot->pyformlang->guidance<0.2.0,>=0.1.10->llama-index-program-guidance<0.2.0,>=0.1.1->llama-index-question-gen-guidance) (3.1.2)\n",
            "Installing collected packages: ordered-set, diskcache, pyformlang, guidance, llama-index-program-guidance, llama-index-question-gen-guidance\n",
            "Successfully installed diskcache-5.6.3 guidance-0.1.15 llama-index-program-guidance-0.1.2 llama-index-question-gen-guidance-0.1.2 ordered-set-4.1.0 pyformlang-1.0.10\n"
          ]
        }
      ]
    },
    {
      "cell_type": "code",
      "source": [
        "import nest_asyncio\n",
        "nest_asyncio.apply()"
      ],
      "metadata": {
        "id": "PZsMZn9tnn1_"
      },
      "execution_count": 2,
      "outputs": []
    },
    {
      "cell_type": "code",
      "source": [
        "from IPython.display import HTML, display\n",
        "\n",
        "def set_css():\n",
        "  display(HTML('''\n",
        "  <style>\n",
        "    pre {\n",
        "        white-space: pre-wrap;\n",
        "    }\n",
        "  </style>\n",
        "  '''))\n",
        "get_ipython().events.register('pre_run_cell', set_css)"
      ],
      "metadata": {
        "id": "RDY1IE-96Iv_"
      },
      "execution_count": 3,
      "outputs": []
    },
    {
      "cell_type": "code",
      "source": [
        "from llama_index.llms.azure_openai import AzureOpenAI\n",
        "from llama_index.embeddings.azure_openai import AzureOpenAIEmbedding\n",
        "from llama_index.core import VectorStoreIndex, SimpleDirectoryReader\n",
        "from llama_index.embeddings.huggingface import HuggingFaceEmbedding\n",
        "from llama_index.core import Settings\n",
        "from llama_index.core.tools import QueryEngineTool, ToolMetadata\n",
        "from llama_index.core.query_engine import SubQuestionQueryEngine"
      ],
      "metadata": {
        "id": "c-a2Igz5bXEm",
        "colab": {
          "base_uri": "https://localhost:8080/",
          "height": 17
        },
        "outputId": "8fb3b325-b137-4a4c-e9d2-b776d7830c53"
      },
      "execution_count": 4,
      "outputs": [
        {
          "output_type": "display_data",
          "data": {
            "text/plain": [
              "<IPython.core.display.HTML object>"
            ],
            "text/html": [
              "\n",
              "  <style>\n",
              "    pre {\n",
              "        white-space: pre-wrap;\n",
              "    }\n",
              "  </style>\n",
              "  "
            ]
          },
          "metadata": {}
        }
      ]
    },
    {
      "cell_type": "code",
      "source": [
        "from google.colab import userdata\n",
        "from google.colab import drive"
      ],
      "metadata": {
        "id": "xxtlsxLJbZyz",
        "colab": {
          "base_uri": "https://localhost:8080/",
          "height": 17
        },
        "outputId": "4e8e09e1-fdec-41e9-86d6-6475dcd367e9"
      },
      "execution_count": 6,
      "outputs": [
        {
          "output_type": "display_data",
          "data": {
            "text/plain": [
              "<IPython.core.display.HTML object>"
            ],
            "text/html": [
              "\n",
              "  <style>\n",
              "    pre {\n",
              "        white-space: pre-wrap;\n",
              "    }\n",
              "  </style>\n",
              "  "
            ]
          },
          "metadata": {}
        }
      ]
    },
    {
      "cell_type": "code",
      "source": [
        "# configure the llm model\n",
        "\n",
        "api_key = userdata.get('AZURE_OPENAI_API_KEY')\n",
        "azure_endpoint = userdata.get(\"AZURE_OPENAI_ENDPOINT\")\n",
        "api_version = \"2023-12-01-preview\"\n",
        "\n",
        "llm = AzureOpenAI(\n",
        "    model=\"gpt-35-turbo\",\n",
        "    api_type = \"azure\",\n",
        "    deployment_name = \"gpt-4-32k\",\n",
        "    api_key=api_key,\n",
        "    azure_endpoint=azure_endpoint,\n",
        "    api_version=api_version,\n",
        ")"
      ],
      "metadata": {
        "id": "fT2yflUbbcNn",
        "colab": {
          "base_uri": "https://localhost:8080/",
          "height": 17
        },
        "outputId": "2aa79c0b-acc7-42f9-d7dd-c56a8197bfcc"
      },
      "execution_count": 7,
      "outputs": [
        {
          "output_type": "display_data",
          "data": {
            "text/plain": [
              "<IPython.core.display.HTML object>"
            ],
            "text/html": [
              "\n",
              "  <style>\n",
              "    pre {\n",
              "        white-space: pre-wrap;\n",
              "    }\n",
              "  </style>\n",
              "  "
            ]
          },
          "metadata": {}
        }
      ]
    },
    {
      "cell_type": "code",
      "source": [
        "# configure the embedding\n",
        "\n",
        "# this doesn't work like this, some configuration error?\n",
        "embed_model = AzureOpenAIEmbedding(\n",
        "    model=\"text-embedding-ada-002\",\n",
        "    deployment_name=\"text-embedding-ada\",\n",
        "    api_key=api_key,\n",
        "    azure_endpoint=azure_endpoint,\n",
        "    api_version=api_version,\n",
        ")"
      ],
      "metadata": {
        "colab": {
          "base_uri": "https://localhost:8080/",
          "height": 17
        },
        "id": "Lhes5gUBiiw_",
        "outputId": "f17897da-ad92-4c24-9615-da8d68c98b30"
      },
      "execution_count": 10,
      "outputs": [
        {
          "output_type": "display_data",
          "data": {
            "text/plain": [
              "<IPython.core.display.HTML object>"
            ],
            "text/html": [
              "\n",
              "  <style>\n",
              "    pre {\n",
              "        white-space: pre-wrap;\n",
              "    }\n",
              "  </style>\n",
              "  "
            ]
          },
          "metadata": {}
        }
      ]
    },
    {
      "cell_type": "code",
      "source": [
        "# set the global configuration\n",
        "Settings.llm = llm\n",
        "Settings.embed_model = embed_model"
      ],
      "metadata": {
        "id": "SZRzOdJ7beYs",
        "colab": {
          "base_uri": "https://localhost:8080/",
          "height": 17
        },
        "outputId": "6c586907-9913-4e6d-d2d9-8af22c3ed130"
      },
      "execution_count": 11,
      "outputs": [
        {
          "output_type": "display_data",
          "data": {
            "text/plain": [
              "<IPython.core.display.HTML object>"
            ],
            "text/html": [
              "\n",
              "  <style>\n",
              "    pre {\n",
              "        white-space: pre-wrap;\n",
              "    }\n",
              "  </style>\n",
              "  "
            ]
          },
          "metadata": {}
        }
      ]
    },
    {
      "cell_type": "code",
      "source": [
        "drive.mount('/content/drive', force_remount=True)"
      ],
      "metadata": {
        "colab": {
          "base_uri": "https://localhost:8080/",
          "height": 35
        },
        "id": "rlkTTpprbgca",
        "outputId": "6b2cec8e-24d7-4e83-d2b7-ca8ab57f5082",
        "collapsed": true
      },
      "execution_count": 13,
      "outputs": [
        {
          "output_type": "display_data",
          "data": {
            "text/plain": [
              "<IPython.core.display.HTML object>"
            ],
            "text/html": [
              "\n",
              "  <style>\n",
              "    pre {\n",
              "        white-space: pre-wrap;\n",
              "    }\n",
              "  </style>\n",
              "  "
            ]
          },
          "metadata": {}
        },
        {
          "output_type": "stream",
          "name": "stdout",
          "text": [
            "Mounted at /content/drive\n"
          ]
        }
      ]
    },
    {
      "cell_type": "code",
      "source": [
        "hs_data_path = '/content/drive/MyDrive/Colab_Notebooks/HS_Data'\n",
        "\n",
        "doc1_text_a_path = f'{hs_data_path}/Dataset1_TextA.pdf'\n",
        "doc1_text_x_path = f'{hs_data_path}/Dataset1_TextX.pdf'\n",
        "doc2_text_a_path = f'{hs_data_path}/Dataset2_TextA.pdf'\n",
        "doc2_text_x_path = f'{hs_data_path}/Dataset2_TextX.pdf'\n",
        "\n",
        "doc3_text_a_path = f'{hs_data_path}/Dataset3_TextA_National_Coalition_Party_election_program_2023.pdf'\n",
        "doc3_text_b_path = f'{hs_data_path}/Dataset3_TextB_Finns_Party_election_program_2023.pdf'\n",
        "doc3_text_c_path = f'{hs_data_path}/Dataset3_TextC_SFP_election_program_2023.pdf'\n",
        "doc3_text_d_path = f'{hs_data_path}/Dataset3_TextD_Christian_Democrats_election_program_2023.pdf'\n",
        "doc3_text_x_path = f'{hs_data_path}/Dataset3_TextX_Government_Programme_2023.pdf'\n",
        "\n",
        "lastensuojelu_1_path = f'{hs_data_path}/Selvityshenkilon_edellytykset_lastensuojelun.pdf'\n",
        "lastensuojelu_2_path = f'{hs_data_path}/Toimiva lastensuojelu loppuraportti_final_19062013.pdf'\n",
        "lastensuojelu_3_path = f'{hs_data_path}/R_31_18_Selvityshenkilon_ehdotus_lastensuojelun_laatu.pdf'\n",
        "lastensuojelu_4_path = f'{hs_data_path}/STM_2020_28_rap.pdf'\n",
        "lastensuojelu_5_path = f'{hs_data_path}/STM_2023_r_27.pdf'"
      ],
      "metadata": {
        "id": "XT7Dg5KsbiHM",
        "colab": {
          "base_uri": "https://localhost:8080/",
          "height": 17
        },
        "outputId": "40408e24-48aa-46c9-cb61-1216feee263c"
      },
      "execution_count": 14,
      "outputs": [
        {
          "output_type": "display_data",
          "data": {
            "text/plain": [
              "<IPython.core.display.HTML object>"
            ],
            "text/html": [
              "\n",
              "  <style>\n",
              "    pre {\n",
              "        white-space: pre-wrap;\n",
              "    }\n",
              "  </style>\n",
              "  "
            ]
          },
          "metadata": {}
        }
      ]
    },
    {
      "cell_type": "markdown",
      "source": [
        "# Simple Query Engine\n",
        "This doens't keep the documents separate, it doesn't garantee that information is taken equally from both documents"
      ],
      "metadata": {
        "id": "o9HHmBBEwAj-"
      }
    },
    {
      "cell_type": "code",
      "source": [
        "documents = SimpleDirectoryReader(\n",
        "    input_files=[lastensuojelu_1_path, lastensuojelu_2_path]\n",
        ").load_data()\n",
        "base_index = VectorStoreIndex.from_documents(documents)"
      ],
      "metadata": {
        "id": "GP2jIqN3bzYF"
      },
      "execution_count": 40,
      "outputs": []
    },
    {
      "cell_type": "code",
      "source": [
        "query_engine = base_index.as_query_engine(similarity_top_k=4)"
      ],
      "metadata": {
        "id": "_V3GaQxWgoTC"
      },
      "execution_count": 43,
      "outputs": []
    },
    {
      "cell_type": "code",
      "source": [
        "query = \"What are the differences about the subject \\\"education\\\" in the two documents? answer in finnish\"\n",
        "response = query_engine.query(query)\n",
        "\n",
        "print(response)"
      ],
      "metadata": {
        "colab": {
          "base_uri": "https://localhost:8080/"
        },
        "id": "M33EZWPlb0Fg",
        "outputId": "e82f6fc1-ac90-457a-b0f6-f640f9cd6614",
        "collapsed": true
      },
      "execution_count": 44,
      "outputs": [
        {
          "output_type": "stream",
          "name": "stdout",
          "text": [
            "Ensimmäisessä dokumentissa keskitytään sosiaalityöntekijöiden koulutukseen ja sen kehittämiseen. Siinä ehdotetaan, että osa erikoistumiskoulutuksesta voisi keskittyä erityisesti vastavalmistuneiden sosiaalityöntekijöiden lastensuojelun asiakastyöhön täydentävän osaamisen hankkimiseen. Dokumentissa tuodaan esille myös koulutuksen ja käytännön työn väliset ristiriidat, kuten teoreettisen tiedon soveltamisen vaikeus käytäntöön ja eettisten periaatteiden noudattamisen haasteet suuren asiakasmäärän kanssa.\n",
            "\n",
            "Toisessa dokumentissa ei keskitytä suoraan koulutukseen, vaan se käsittelee laajemmin lastensuojelun kysymyksiä, kuten ammattilaisten tilanteen kehittämistä, tehtävärakennesuosituksen tarkistamista, eri ammattilaisten yhteistyötä, lasten ja nuorten osallisuusasioita sekä jälkihuollon ja maahanmuuttajataustaisten lasten ja perheiden kysymyksiä.\n"
          ]
        }
      ]
    },
    {
      "cell_type": "markdown",
      "source": [
        "# SubQuestionQueryEngine\n",
        "\n",
        "This query engine does the following:\n",
        "- Can treat different documents as different \"tools\"\n",
        "- Breaks down a complex question into sub-questions over any subset of different documents\n",
        "- Does retrieval independently per document\n",
        "- Combines results at the end."
      ],
      "metadata": {
        "id": "sfwB5wkrkzeQ"
      }
    },
    {
      "cell_type": "code",
      "source": [
        "# create a separate vector store index for each document\n",
        "\n",
        "document_1_document = SimpleDirectoryReader(\n",
        "    input_files=[doc3_text_a_path]\n",
        ").load_data()\n",
        "document_1_index = VectorStoreIndex.from_documents(document_1_document)\n",
        "\n",
        "document_2_document = SimpleDirectoryReader(\n",
        "    input_files=[doc3_text_b_path]\n",
        ").load_data()\n",
        "document_2_index = VectorStoreIndex.from_documents(document_2_document)\n",
        "\n",
        "document_3_document = SimpleDirectoryReader(\n",
        "    input_files=[doc3_text_c_path]\n",
        ").load_data()\n",
        "document_3_index = VectorStoreIndex.from_documents(document_3_document)\n",
        "\n",
        "document_4_document = SimpleDirectoryReader(\n",
        "    input_files=[doc3_text_d_path]\n",
        ").load_data()\n",
        "document_4_index = VectorStoreIndex.from_documents(document_4_document)\n",
        "\n",
        "document_5_document = SimpleDirectoryReader(\n",
        "    input_files=[doc3_text_x_path]\n",
        ").load_data()\n",
        "document_5_index = VectorStoreIndex.from_documents(document_5_document)"
      ],
      "metadata": {
        "colab": {
          "base_uri": "https://localhost:8080/",
          "height": 0
        },
        "collapsed": true,
        "id": "L9u2-JGxlCLu",
        "outputId": "15c0c837-77f4-4b96-f6b8-23524d7a327a"
      },
      "execution_count": 15,
      "outputs": [
        {
          "output_type": "display_data",
          "data": {
            "text/plain": [
              "<IPython.core.display.HTML object>"
            ],
            "text/html": [
              "\n",
              "  <style>\n",
              "    pre {\n",
              "        white-space: pre-wrap;\n",
              "    }\n",
              "  </style>\n",
              "  "
            ]
          },
          "metadata": {}
        },
        {
          "output_type": "stream",
          "name": "stderr",
          "text": [
            "WARNING:pypdf._reader:Ignoring wrong pointing object 8 0 (offset 0)\n",
            "WARNING:pypdf._reader:Ignoring wrong pointing object 10 0 (offset 0)\n",
            "WARNING:pypdf._reader:Ignoring wrong pointing object 15 0 (offset 0)\n",
            "WARNING:pypdf._reader:Ignoring wrong pointing object 25 0 (offset 0)\n",
            "WARNING:pypdf._reader:Ignoring wrong pointing object 59 0 (offset 0)\n",
            "WARNING:pypdf._reader:Ignoring wrong pointing object 61 0 (offset 0)\n",
            "WARNING:pypdf._reader:Ignoring wrong pointing object 68 0 (offset 0)\n",
            "WARNING:pypdf._reader:Ignoring wrong pointing object 70 0 (offset 0)\n",
            "WARNING:pypdf._reader:Ignoring wrong pointing object 72 0 (offset 0)\n",
            "WARNING:pypdf._reader:Ignoring wrong pointing object 74 0 (offset 0)\n",
            "WARNING:pypdf._reader:Ignoring wrong pointing object 113 0 (offset 0)\n",
            "WARNING:pypdf._reader:Ignoring wrong pointing object 143 0 (offset 0)\n"
          ]
        }
      ]
    },
    {
      "cell_type": "code",
      "source": [
        "# create a query engine for each document\n",
        "\n",
        "document_1_engine = document_1_index.as_query_engine(similarity_top_k=3)\n",
        "document_2_engine = document_2_index.as_query_engine(similarity_top_k=3)\n",
        "document_3_engine = document_3_index.as_query_engine(similarity_top_k=3)\n",
        "document_4_engine = document_4_index.as_query_engine(similarity_top_k=3)\n",
        "document_5_engine = document_5_index.as_query_engine(similarity_top_k=3)"
      ],
      "metadata": {
        "colab": {
          "base_uri": "https://localhost:8080/",
          "height": 17
        },
        "id": "4KN-PlHIlw41",
        "outputId": "1de8c406-3771-4470-8a64-a4f79ea82a11"
      },
      "execution_count": 22,
      "outputs": [
        {
          "output_type": "display_data",
          "data": {
            "text/plain": [
              "<IPython.core.display.HTML object>"
            ],
            "text/html": [
              "\n",
              "  <style>\n",
              "    pre {\n",
              "        white-space: pre-wrap;\n",
              "    }\n",
              "  </style>\n",
              "  "
            ]
          },
          "metadata": {}
        }
      ]
    },
    {
      "cell_type": "code",
      "source": [
        "# ask the question to each query engine separately\n",
        "\n",
        "question=\"Provides information about climate actions\"\n",
        "\n",
        "query_engine_tools = [\n",
        "    QueryEngineTool(\n",
        "        query_engine=document_1_engine,\n",
        "        metadata=ToolMetadata(\n",
        "            name=\"National_Coalition_Party_election_program_2023\",\n",
        "            description=question,\n",
        "        ),\n",
        "    ),\n",
        "    QueryEngineTool(\n",
        "        query_engine=document_2_engine,\n",
        "        metadata=ToolMetadata(\n",
        "            name=\"Finns_Party_election_program\",\n",
        "            description=question,\n",
        "        ),\n",
        "    ),\n",
        "    QueryEngineTool(\n",
        "        query_engine=document_3_engine,\n",
        "        metadata=ToolMetadata(\n",
        "            name=\"SFP_election_program\",\n",
        "            description=question,\n",
        "        ),\n",
        "    ),\n",
        "    QueryEngineTool(\n",
        "        query_engine=document_4_engine,\n",
        "        metadata=ToolMetadata(\n",
        "            name=\"Christian_Democrats_election_program\",\n",
        "            description=question,\n",
        "        ),\n",
        "    ),\n",
        "    QueryEngineTool(\n",
        "        query_engine=document_5_engine,\n",
        "        metadata=ToolMetadata(\n",
        "            name=\"Government_program\",\n",
        "            description=question,\n",
        "        ),\n",
        "    ),\n",
        "]\n",
        "\n",
        "s_engine = SubQuestionQueryEngine.from_defaults(query_engine_tools=query_engine_tools)"
      ],
      "metadata": {
        "colab": {
          "base_uri": "https://localhost:8080/",
          "height": 17
        },
        "id": "YJmaD3kfmET8",
        "outputId": "5ad2aa97-ccc9-41f3-da0a-74c80b5f30b8"
      },
      "execution_count": 23,
      "outputs": [
        {
          "output_type": "display_data",
          "data": {
            "text/plain": [
              "<IPython.core.display.HTML object>"
            ],
            "text/html": [
              "\n",
              "  <style>\n",
              "    pre {\n",
              "        white-space: pre-wrap;\n",
              "    }\n",
              "  </style>\n",
              "  "
            ]
          },
          "metadata": {}
        }
      ]
    },
    {
      "cell_type": "code",
      "source": [
        "response = s_engine.query(\"Compare and contrast the climate actions of the five documents\")\n",
        "\n",
        "print(response)"
      ],
      "metadata": {
        "colab": {
          "base_uri": "https://localhost:8080/",
          "height": 1000
        },
        "id": "wT7IfJjhmwff",
        "outputId": "47a90842-3f02-41c9-94c7-da6de79cc71d"
      },
      "execution_count": 24,
      "outputs": [
        {
          "output_type": "display_data",
          "data": {
            "text/plain": [
              "<IPython.core.display.HTML object>"
            ],
            "text/html": [
              "\n",
              "  <style>\n",
              "    pre {\n",
              "        white-space: pre-wrap;\n",
              "    }\n",
              "  </style>\n",
              "  "
            ]
          },
          "metadata": {}
        },
        {
          "output_type": "stream",
          "name": "stdout",
          "text": [
            "Generated 5 sub questions.\n",
            "\u001b[1;3;38;2;237;90;200m[National_Coalition_Party_election_program_2023] Q: What are the key climate actions proposed in the National Coalition Party election program 2023?\n",
            "\u001b[0m\u001b[1;3;38;2;90;149;237m[Finns_Party_election_program] Q: What are the key climate actions proposed in the Finns Party election program?\n",
            "\u001b[0m\u001b[1;3;38;2;11;159;203m[SFP_election_program] Q: What are the key climate actions proposed in the SFP election program?\n",
            "\u001b[0m\u001b[1;3;38;2;155;135;227m[Christian_Democrats_election_program] Q: What are the key climate actions proposed in the Christian Democrats election program?\n",
            "\u001b[0m\u001b[1;3;38;2;237;90;200m[Government_program] Q: What are the key climate actions proposed in the Government program?\n",
            "\u001b[0m\u001b[1;3;38;2;237;90;200m[National_Coalition_Party_election_program_2023] A: The National Coalition Party election program 2023 proposes to ensure the sustainable use of natural resources. They believe that responsible forestry and circular economy can offer solutions for fighting climate change and increase well-being everywhere in Finland.\n",
            "\u001b[0m\u001b[1;3;38;2;90;149;237m[Finns_Party_election_program] A: The Finns Party election program proposes several key climate actions. They advocate for a realistic, properly scheduled, and effective climate policy, promoting low-emission technologies as quickly as technically and economically possible. They propose moving Finland's carbon neutrality goal to 2050 and believe that the technology needed for a carbon-neutral society is in a good stage of development. They also propose that the licensing of wind and solar power plants should be tightened, with operators obliged to replace felled trees by planting an equivalent number elsewhere. They also suggest that operators should participate in the renewal of the electricity system with medium and long-term measures. They propose the construction of regulating power in multi-fuel power plants using fossil or biofuels and CCS and CCU technologies.\n",
            "\u001b[0m\u001b[1;3;38;2;155;135;227m[Christian_Democrats_election_program] A: The Christian Democrats propose several key climate actions in their election program. They emphasize the importance of reducing emissions from agriculture and fish farming, and addressing the environmental challenges posed by increased mining operations and the battery industry. They advocate for a holistic view of emissions, considering the entire life cycle and global effects of carbon and biodiversity. They also stress the importance of operational reliability and self-sufficiency in future energy solutions. Reducing the use of fossil fuels is central to their climate change strategy. They propose directing consumption towards more sustainable, healthier, and less polluting options through taxation and standards. They also support sustainable forestry and promote additional funding for the voluntary protection of forests and other natural sites. They believe in taking action to adapt to climate changes and in the importance of caring for and protecting habitats to prevent species endangerment. They do not support income transfer elements such as the climate action social fund.\n",
            "\u001b[0m\u001b[1;3;38;2;11;159;203m[SFP_election_program] A: The SFP election program proposes several key climate actions. These include making Finland climate neutral by 2035, increasing the proportion of renewable energy and abandoning fossil fuels by the 2030s, and investing in research and development to increase energy and resource efficiency. They also aim to develop incentives for environmentally friendly investments, reduce vehicle emissions, promote the development of low-emission fuels, and ensure all new buildings are energy-efficient. The program also includes boosting carbon sinks through sustainable agriculture and forestry, preserving biodiversity, reducing the eutrophication of the Baltic Sea, promoting sustainable fishing, and increasing the recycling rate in Finland. They also aim to promote a sharing economy and boost attention given to the circular economy and sustainable development in school curricula.\n",
            "\u001b[0m\u001b[1;3;38;2;237;90;200m[Government_program] A: The Government program proposes several key climate actions. Firstly, Finland aims to increase its climate handprint and move towards carbon neutrality primarily through effective emissions reduction measures, increased carbon sinks, and innovative clean solutions. These solutions will replace those based on polluting energy sources and raw materials. Climate measures will be implemented in a sustainable and just manner, economically, ecologically, socially, and regionally. \n",
            "\n",
            "Finland also plans to promote measures that improve society's ability to adapt to climate change and strengthen cooperation with other Nordic countries related to climate change mitigation and adaptation. The government is committed to meeting emission reduction targets and moving towards carbon neutrality and carbon negativity without increasing everyday costs or weakening competitiveness. \n",
            "\n",
            "One of the priorities of the Government’s climate policy is the rapid development of solutions that reduce emissions and capture carbon in industry and energy production. The government will review the carbon neutrality strategy in connection with drawing up a new climate and energy strategy. \n",
            "\n",
            "The Government also plans to encourage the selection of clean solutions and take into account other environmental impacts, such as biodiversity and sustainable development. It will work with businesses and industries to promote the creation of a model for calculating positive climate handprints and set targets for increasing the positive climate handprint of Finnish exports. \n",
            "\n",
            "Lastly, Finland's climate policy will be determined by agreements at the EU level, and the country will actively promote impactful and cost-effective climate and industrial policy within the EU. The government emphasizes the importance of cost-effective and technology-neutral emissions reduction measures and will take action to develop the pricing and markets of carbon emissions and sinks.\n",
            "\u001b[0mThe National Coalition Party election program 2023 focuses on the sustainable use of natural resources, responsible forestry, and the circular economy as key climate actions. \n",
            "\n",
            "The Finns Party election program advocates for a realistic and effective climate policy, promoting low-emission technologies, moving Finland's carbon neutrality goal to 2050, and tightening the licensing of wind and solar power plants. They also propose the construction of regulating power in multi-fuel power plants using fossil or biofuels and CCS and CCU technologies.\n",
            "\n",
            "The SFP election program aims to make Finland climate neutral by 2035, increase the proportion of renewable energy, abandon fossil fuels by the 2030s, and invest in research and development to increase energy and resource efficiency. They also aim to reduce vehicle emissions, promote low-emission fuels, ensure energy-efficient buildings, boost carbon sinks, preserve biodiversity, reduce the eutrophication of the Baltic Sea, promote sustainable fishing, and increase the recycling rate in Finland.\n",
            "\n",
            "The Christian Democrats emphasize reducing emissions from agriculture and fish farming, addressing environmental challenges posed by mining operations and the battery industry, and reducing the use of fossil fuels. They propose directing consumption towards more sustainable options through taxation and standards, and support sustainable forestry and additional funding for the voluntary protection of forests and other natural sites.\n",
            "\n",
            "The Government program aims to increase its climate handprint and move towards carbon neutrality through effective emissions reduction measures, increased carbon sinks, and innovative clean solutions. They plan to promote measures that improve society's ability to adapt to climate change and strengthen cooperation with other Nordic countries. The government is committed to meeting emission reduction targets and moving towards carbon neutrality and carbon negativity without increasing everyday costs or weakening competitiveness. They also plan to encourage the selection of clean solutions and take into account other environmental impacts, such as biodiversity and sustainable development.\n"
          ]
        }
      ]
    },
    {
      "cell_type": "code",
      "source": [
        "print(len(response.source_nodes))"
      ],
      "metadata": {
        "colab": {
          "base_uri": "https://localhost:8080/",
          "height": 35
        },
        "id": "rgtAcUgCm-mC",
        "outputId": "75004788-8d18-4670-e4c1-2949aa954c74"
      },
      "execution_count": 165,
      "outputs": [
        {
          "output_type": "display_data",
          "data": {
            "text/plain": [
              "<IPython.core.display.HTML object>"
            ],
            "text/html": [
              "\n",
              "  <style>\n",
              "    pre {\n",
              "        white-space: pre-wrap;\n",
              "    }\n",
              "  </style>\n",
              "  "
            ]
          },
          "metadata": {}
        },
        {
          "output_type": "stream",
          "name": "stdout",
          "text": [
            "20\n"
          ]
        }
      ]
    },
    {
      "cell_type": "code",
      "source": [
        "for source in response.source_nodes:\n",
        "  print(source.get_content(metadata_mode=\"all\"))\n",
        "  print()\n",
        "  print('--------------------------------------------')\n",
        "  print()"
      ],
      "metadata": {
        "colab": {
          "base_uri": "https://localhost:8080/",
          "height": 1000
        },
        "collapsed": true,
        "id": "rSQqr9f7nCX8",
        "outputId": "901f0522-ecc1-46d2-e6c6-d045a74b83ba"
      },
      "execution_count": 28,
      "outputs": [
        {
          "output_type": "display_data",
          "data": {
            "text/plain": [
              "<IPython.core.display.HTML object>"
            ],
            "text/html": [
              "\n",
              "  <style>\n",
              "    pre {\n",
              "        white-space: pre-wrap;\n",
              "    }\n",
              "  </style>\n",
              "  "
            ]
          },
          "metadata": {}
        },
        {
          "output_type": "stream",
          "name": "stdout",
          "text": [
            "Sub question: What are the key climate actions proposed in the National Coalition Party election program 2023?\n",
            "Response: The National Coalition Party election program 2023 proposes to ensure the sustainable use of natural resources. They believe that responsible forestry and circular economy can offer solutions for fighting climate change and increase well-being everywhere in Finland.\n",
            "\n",
            "--------------------------------------------\n",
            "\n",
            "Sub question: What are the key climate actions proposed in the Finns Party election program?\n",
            "Response: The Finns Party election program proposes several key climate actions. They advocate for a realistic, properly scheduled, and effective climate policy, promoting low-emission technologies as quickly as technically and economically possible. They propose moving Finland's carbon neutrality goal to 2050 and believe that the technology needed for a carbon-neutral society is in a good stage of development. They also propose that the licensing of wind and solar power plants should be tightened, with operators obliged to replace felled trees by planting an equivalent number elsewhere. They also suggest that operators should participate in the renewal of the electricity system with medium and long-term measures. They propose the construction of regulating power in multi-fuel power plants using fossil or biofuels and CCS and CCU technologies.\n",
            "\n",
            "--------------------------------------------\n",
            "\n",
            "Sub question: What are the key climate actions proposed in the SFP election program?\n",
            "Response: The SFP election program proposes several key climate actions. These include making Finland climate neutral by 2035, increasing the proportion of renewable energy and abandoning fossil fuels by the 2030s, and investing in research and development to increase energy and resource efficiency. They also aim to develop incentives for environmentally friendly investments, reduce vehicle emissions, promote the development of low-emission fuels, and ensure all new buildings are energy-efficient. The program also includes boosting carbon sinks through sustainable agriculture and forestry, preserving biodiversity, reducing the eutrophication of the Baltic Sea, promoting sustainable fishing, and increasing the recycling rate in Finland. They also aim to promote a sharing economy and boost attention given to the circular economy and sustainable development in school curricula.\n",
            "\n",
            "--------------------------------------------\n",
            "\n",
            "Sub question: What are the key climate actions proposed in the Christian Democrats election program?\n",
            "Response: The Christian Democrats propose several key climate actions in their election program. They emphasize the importance of reducing emissions from agriculture and fish farming, and addressing the environmental challenges posed by increased mining operations and the battery industry. They advocate for a holistic view of emissions, considering the entire life cycle and global effects of carbon and biodiversity. They also stress the importance of operational reliability and self-sufficiency in future energy solutions. Reducing the use of fossil fuels is central to their climate change strategy. They propose directing consumption towards more sustainable, healthier, and less polluting options through taxation and standards. They also support sustainable forestry and promote additional funding for the voluntary protection of forests and other natural sites. They believe in taking action to adapt to climate changes and in the importance of caring for and protecting habitats to prevent species endangerment. They do not support income transfer elements such as the climate action social fund.\n",
            "\n",
            "--------------------------------------------\n",
            "\n",
            "Sub question: What are the key climate actions proposed in the Government program?\n",
            "Response: The Government program proposes several key climate actions. Firstly, Finland aims to increase its climate handprint and move towards carbon neutrality primarily through effective emissions reduction measures, increased carbon sinks, and innovative clean solutions. These solutions will replace those based on polluting energy sources and raw materials. Climate measures will be implemented in a sustainable and just manner, economically, ecologically, socially, and regionally. \n",
            "\n",
            "Finland also plans to promote measures that improve society's ability to adapt to climate change and strengthen cooperation with other Nordic countries related to climate change mitigation and adaptation. The government is committed to meeting emission reduction targets and moving towards carbon neutrality and carbon negativity without increasing everyday costs or weakening competitiveness. \n",
            "\n",
            "One of the priorities of the Government’s climate policy is the rapid development of solutions that reduce emissions and capture carbon in industry and energy production. The government will review the carbon neutrality strategy in connection with drawing up a new climate and energy strategy. \n",
            "\n",
            "The Government also plans to encourage the selection of clean solutions and take into account other environmental impacts, such as biodiversity and sustainable development. It will work with businesses and industries to promote the creation of a model for calculating positive climate handprints and set targets for increasing the positive climate handprint of Finnish exports. \n",
            "\n",
            "Lastly, Finland's climate policy will be determined by agreements at the EU level, and the country will actively promote impactful and cost-effective climate and industrial policy within the EU. The government emphasizes the importance of cost-effective and technology-neutral emissions reduction measures and will take action to develop the pricing and markets of carbon emissions and sinks.\n",
            "\n",
            "--------------------------------------------\n",
            "\n",
            "page_label: 5\n",
            "file_name: Dataset3_TextA_National_Coalition_Party_election_program_2023.pdf\n",
            "file_path: /content/drive/MyDrive/Colab_Notebooks/HS_Data/Dataset3_TextA_National_Coalition_Party_election_program_2023.pdf\n",
            "file_type: application/pdf\n",
            "file_size: 278185\n",
            "creation_date: 2024-05-14\n",
            "last_modified_date: 2024-05-14\n",
            "\n",
            "for newborns. We’ll improve the preconditions of ownership by launching a national ownership program.  6. We will fix traffic connections everywhere in Finland. Functional connections within and from Finland are vital in terms of economic growth and security of supply. We’ll pay off repair debt on road and rail networks and see to sea and air connections. We’ll enable functional regional trains in new urban areas, develop faster rail connections, and promote competition in rail traffic. 7. We will take up on the opportunities of digitalisation and data econ-omy. We’ll push growth by promoting the data skills and digitalisation of SMEs, as well as investments in fast connections, research and product development. We’ll make sure we have nation-wide communication infra-structure. We’ll improve public services through digitalisation and provide data on the public sector to support the creation of new innovations. 8. We will reform the housing policy in Finland. We’ll reduce homelessness by reserving publicly funded rental housing to those who need them the most. We’ll control the cost development of housing by increasing the supply of plots and housing. We’ll reform the housing allowance system and land use and building regulations. We’ll increase cooperation between government and cities. 9. We will improve the competitiveness of Finnish food production. We’ll ensure the security of supply and food security. People must have safe, healthy and sustainably produced Finnish food available to them. Agricul-ture must be developed to become more competitive and viable and be more based on entrepreneurship. We’ll improve the preconditions of food and foodstuff export. 10. We will ensure the sustainable use of natural resources. Responsible forestry and circular economy offer solutions for fighting climate change and increase well-being everywhere in Finland.  2. We will stop living on borrowed money The National Coalition Party is striving for a Finland where the financing for a welfare state is secured for generations to come. We want to balance public finances without increasing the total tax rate. We wish to strengthen economic growth and create new jobs, increase productivity in both the private and public sectors, as well as prioritise and decrease public expenditure.  The 10-point worksheet of the National Coalition Party:  1. We will balance public expenses and revenue. We’ll write an economic recovery programme lasting two parliamentary terms to balance public finances in Finland and stop indebtedness by 2031.\n",
            "\n",
            "--------------------------------------------\n",
            "\n",
            "page_label: 10\n",
            "file_name: Dataset3_TextA_National_Coalition_Party_election_program_2023.pdf\n",
            "file_path: /content/drive/MyDrive/Colab_Notebooks/HS_Data/Dataset3_TextA_National_Coalition_Party_election_program_2023.pdf\n",
            "file_type: application/pdf\n",
            "file_size: 278185\n",
            "creation_date: 2024-05-14\n",
            "last_modified_date: 2024-05-14\n",
            "\n",
            "enough lessons to offer to our youth. We’ll promote apprenticeship agree-ments and enable the certification of competence through doing.  4. We will increase the share of population with higher education. By 2030, 50% of the population will have a higher education degree. We’ll allocate more available student places to areas with the highest lack of skilled workers. 5. We will reform the distribution of work, profiling and cooperation between universities and polytechnics. We’ll encourage universities and polytechnics to find the fields where they can aim to be the best in the world. We’ll strengthen the autonomy of higher education institutions through capitalisation. We’ll enable more individual learning paths, flexible paths to working life, and work-based learning. 6. We will increase funding for science and research. We’ll implement a programme, lasting one parliamentary term, where the capital of higher education institutions consists of billion Euros of public funding and at least half a billion of private funding.  7. We will increase the share of research, development and innovation funding to 4 per cent of the GDP by 2030. We’ll adopt an extensive right to RDI tax deductions for businesses, which will increase the number of RDI investments in companies. 8. We will make education more international. We’ll grant graduates of higher education a two-year residence permit so they can apply for work. We’ll increase the number of international students in upper secondary education and thus ensure their language skills and integration into Finnish society from an early age. 9. We will improve the operating conditions of culture and creative econ-omy. We’ll develop cultural export and tourism and strengthen the cultural sector in the wake of the Covid-19 pandemic.   10. We will improve the preconditions of sports and exercise. We’ll support the health and well-being of people by promoting a physically active lifestyle. The preconditions of elite sports will be improved in cooperation with the business sector. 6. We will increase well-being in Finland and prevent marginalisation The National Coalition Party wants a Finland that treats well children, the youth and working age people as well as the elderly. We wish to promote health and well-being in Finns and invest in the prevention of marginalisation and other prob-lems. We want to make social and health care services more readily available and safeguard the everyday lives of all Finns.  The 10-point worksheet of the National Coalition Party:\n",
            "\n",
            "--------------------------------------------\n",
            "\n",
            "page_label: 14\n",
            "file_name: Dataset3_TextA_National_Coalition_Party_election_program_2023.pdf\n",
            "file_path: /content/drive/MyDrive/Colab_Notebooks/HS_Data/Dataset3_TextA_National_Coalition_Party_election_program_2023.pdf\n",
            "file_type: application/pdf\n",
            "file_size: 278185\n",
            "creation_date: 2024-05-14\n",
            "last_modified_date: 2024-05-14\n",
            "\n",
            "12.9.2022 The National Coalition Party’s answers to Nato questions What is the position of the National Coalition Party towards NATO? The position of the National Coalition Party is clear: Read\tmore  Contact • NCP in electoral districts • Party office • MEP Get involved • Become a member • Goals and themes Jäsenliitot ja läheisjärjestöt • Kokoomusnuoret • Kokoomusopiskelijat\n",
            "\n",
            "--------------------------------------------\n",
            "\n",
            "page_label: 3\n",
            "file_name: Dataset3_TextB_Finns_Party_election_program_2023.pdf\n",
            "file_path: /content/drive/MyDrive/Colab_Notebooks/HS_Data/Dataset3_TextB_Finns_Party_election_program_2023.pdf\n",
            "file_type: application/pdf\n",
            "file_size: 804622\n",
            "creation_date: 2024-05-14\n",
            "last_modified_date: 1979-12-31\n",
            "\n",
            "We  want  and  know  how  to  take  care  of  our  \n",
            "environment,  protect  our  nature  and  reduce  emissions  so  that  \n",
            "this  country  will  be  good  for  future  generations.We  Finns  have  built  our  homeland  with  know-how  and  hard  \n",
            "work,  and  we  want  to  continue  to  build  it.\n",
            "purchasing  power.\n",
            "In  the  blue-white  transition,  energy,  climate,  economic  and  \n",
            "industrial  policy  is  implemented,  the  basis  of  which  is  Finland's  \n",
            "interest.  The  key  differences  to  the  green  transition  policy  are:With  the  blue-white  transition,  we  will  build  a  safe,  self-\n",
            "sufficient  and  prosperous  Finland  together.  We  save  Finnish  \n",
            "work,  entrepreneurship  and  industry.Machine Translated by Google\n",
            "\n",
            "--------------------------------------------\n",
            "\n",
            "page_label: 5\n",
            "file_name: Dataset3_TextB_Finns_Party_election_program_2023.pdf\n",
            "file_path: /content/drive/MyDrive/Colab_Notebooks/HS_Data/Dataset3_TextB_Finns_Party_election_program_2023.pdf\n",
            "file_type: application/pdf\n",
            "file_size: 804622\n",
            "creation_date: 2024-05-14\n",
            "last_modified_date: 1979-12-31\n",
            "\n",
            "Climate  policy  must  be  realistic,  properly  scheduled  and  effective.  \n",
            "We  should  promote  low-emission  technologies  as  fast  as  it  is  \n",
            "technically  and  economically  possible  without  destroying  the  nation  \n",
            "and  the  economy.  Finland's  carbon  neutrality  goal  must  be  moved  to  \n",
            "2050.\n",
            "2023.The  technology  needed  by  a  carbon-neutral  society  is  in  a  good  \n",
            "stage  of  development.  However,  the  solutions  do  not  have  time  to  \n",
            "become  established  and  scaled  so  that  the  emission  cut  required  by  \n",
            "the  1.5  degree  target  would  be  realized  even  by  2050.  This  is  a  \n",
            "generally  recognized  fact.  The  world's  consumption  of  coal  and  oil  is,  \n",
            "for  example,  at  a  record  level  in  the  yearcitizens  and  companies  have  access  to  electricity  whenever  they  \n",
            "need  it.  The  domestic  need  for  electric  power  is  always  met  first,  \n",
            "reliably  and  cheaply  around  the  clock.  The  price  of  exported  \n",
            "electricity  does  not  affect  the  price  of  domestic  electricity.\n",
            "Technologies  under  development  are  expected  to  mature  on  an  \n",
            "industrial  scale  in  the  2030s.  They  will  grow  to  a  decisive  share  of  \n",
            "energy  production  in  the  2040s  at  the  earliest.\n",
            "Basic  Finns  trust  science  and  research.Licensing  of  wind  and  solar  power  plants  will  be  tightened,  and  operators  \n",
            "will  be  obliged  to  replace  the  trees  felled  in  the  way  of  the  power  plants  \n",
            "by  planting  an  equivalent  number  of  trees  elsewhere.  Operators  \n",
            "are  also  obliged  to  participate\n",
            "The  need  for  citizens  and  companies  other  than  energyDecentralized  multi-fuel  power  plants  also  serve  as  basic  and  peak  \n",
            "power,  and  significantly  increase  the  resistance  of  the  energy  system  to  \n",
            "disturbances  and  exceptional  conditions.The  renewal  of  the  electricity  system  is  carried  out  with  medium-  \n",
            "and  long-term  measures.\n",
            "Sufficient  basic  power  together  with  energy  storage  enables  the  \n",
            "price  of  electricity  within  the  production  and  pricing  area  to  be  \n",
            "directed  to  a  \"price  tube\",  which  could  be,  for  example,  5–10  c/kWh.\n",
            "5costs.surplus  to  demand  elasticity  decreases.  The  energy  industry  creates  its  \n",
            "own  sufficient  demand  elasticity  and  adjustment  power  with  the  help  of  \n",
            "the  P2X  industry,  whose  domestic  and  export  demand  for  products  is  \n",
            "practically  endless.\n",
            "The  energy  needed  for  regulation  and  peak  power  productionFor  wind  and  solar  power,  a  technology-specific  and  seasonal  control  \n",
            "power  obligation  is  set,  i.e.  the  minimum  power  that  the  power  plant  \n",
            "must  guarantee  when  operating  normally.  Säätöte's  wind  and  solar  \n",
            "industry  can  produce,  for  example,  domestic  multi-fuel  power  plants.\n",
            "The  construction  of  regulating  power  in  multi-fuel  power  plants  can  be  \n",
            "started  immediately  by  using  fossil  or  biofuels  and  CCS  and  CCU  \n",
            "technologies  in  them,  and  by  utilizing  their  waste  heat.\n",
            "\n",
            "--------------------------------------------\n",
            "\n",
            "page_label: 1\n",
            "file_name: Dataset3_TextB_Finns_Party_election_program_2023.pdf\n",
            "file_path: /content/drive/MyDrive/Colab_Notebooks/HS_Data/Dataset3_TextB_Finns_Party_election_program_2023.pdf\n",
            "file_type: application/pdf\n",
            "file_size: 804622\n",
            "creation_date: 2024-05-14\n",
            "last_modified_date: 1979-12-31\n",
            "\n",
            "of  politics  over  the  last  30  or  so  years  is  a  complete  failure.Finland  is  coming  to  a  crossroads  in  2023.  Consequence  of  Finnish  immigration\n",
            "The  only  way  to  mitigate  the  negative  effects  of  immigration  is  to  strongly  reduce  immigration  to  Finland  \n",
            "from  outside  the  EU  and  EEA  countries  through  legislative  and  administrative  measures.TRANSITIONALBLUE  AND  WHITEMachine Translated by Google\n",
            "\n",
            "--------------------------------------------\n",
            "\n",
            "page_label: 26\n",
            "file_name: Dataset3_TextC_SFP_election_program_2023.pdf\n",
            "file_path: /content/drive/MyDrive/Colab_Notebooks/HS_Data/Dataset3_TextC_SFP_election_program_2023.pdf\n",
            "file_type: application/pdf\n",
            "file_size: 1466189\n",
            "creation_date: 2024-05-14\n",
            "last_modified_date: 1979-12-31\n",
            "\n",
            "26\n",
            "WE ONLY HAVE \n",
            "ONE PLANET\n",
            "We want Finland to be climate neutral by \n",
            "2035. For this to happen, it is important to continue working on ambitious climate \n",
            "policy nationally, at the EU level and \n",
            "internationally. Global warming must be limited to 1.5 degrees Celsius.Finland must be at the forefront when it comes to climate-smart and environ -\n",
            "mentally friendly technology. This holds great potential for our businesses. For businesses to have the courage to invest in development and innovation, farsighted -\n",
            "ness and predictability are needed also in our energy policy. WE MUST SAVE THE CLIMATE AND BIODIVERSITY NOW\n",
            "\n",
            "--------------------------------------------\n",
            "\n",
            "page_label: 27\n",
            "file_name: Dataset3_TextC_SFP_election_program_2023.pdf\n",
            "file_path: /content/drive/MyDrive/Colab_Notebooks/HS_Data/Dataset3_TextC_SFP_election_program_2023.pdf\n",
            "file_type: application/pdf\n",
            "file_size: 1466189\n",
            "creation_date: 2024-05-14\n",
            "last_modified_date: 1979-12-31\n",
            "\n",
            "27\n",
            "WE WANT\n",
            "• t he proportion of renewable energy to   \n",
            " in crease, with fossil fuels being abandoned  \n",
            " d uring the 2030s at the latest \n",
            "• to i nvest in research, development and innova-  \n",
            " t ion that aim to increase our energy and   \n",
            " reso urce efficiency and reduce energy needs \n",
            "• t o develop incentives for environmentally  \n",
            " f riendly investments, aimed at both business  \n",
            " a nd private individuals, for example in the  \n",
            " f orm of funding for energy-saving home  \n",
            " renovations\n",
            "• F inland actively to work towards ambitious  \n",
            " t argets at the EU level to continue reducing  \n",
            " em issions and increasing renewable energy  \n",
            " production \n",
            "• to r educe vehicle emissions by having   \n",
            " w ell-functioning public transport, as well as  \n",
            " m aking investments into charging and   \n",
            " r efuelling infrastructure, for example \n",
            "• to p romote the development, production  \n",
            " a nd adoption of domestically produced,   \n",
            " l ow-emissions fuels\n",
            "• a ll new buildings to be energy-efficient,   \n",
            " w ith an increase in wood construction \n",
            "• to b oost our carbon sinks through sustainable,  \n",
            " f arsighted and active agriculture and forestry\n",
            "• t o formulate a climate compensation model for  \n",
            " f orest owners who maintain carbon sinksThe circular economy and sharing econ -\n",
            "omy are sectors of the future in which \n",
            "Finland should be a pioneer. \n",
            "We must sustainably reinforce our en -\n",
            "ergy self-sufficiency. Therefore we must \n",
            "promote the green transition, abandon \n",
            "fossil fuels and increase renewable energy \n",
            "production. Vehicle emissions must also be reduced.\n",
            "The eutrophication of the Baltic Sea de -\n",
            "mands sustained action. We must pur -posefully work towards reducing emis -\n",
            "sions, especially into the Archipelago Sea.\n",
            "It is crucial that we work decisively to \n",
            "preserve and strengthen biodiversity throughout the country.\n",
            "Our politics must encourage sustainable \n",
            "lifestyles and eco-friendly choices. We must use our resources wisely and reuse them where possible. Recycling must be made more efficient, making better use of \n",
            "industrial by-products.\n",
            "• to p reserve biodiversity through sustainable  \n",
            " u se of natural resources and the protection of  \n",
            " e xisting ecosystems\n",
            "• to m ake further pushes for reducing   \n",
            " e utrophication of the Baltic Sea and, through  \n",
            " s ustained efforts, to improve the situation of  \n",
            " t he Archipelago Sea so that it can be taken off  \n",
            " H ELCOM’s Hot Spots list\n",
            "• to p romote sustainable fishing \n",
            "• t o prohibit all emissions of untreated waste-  \n",
            " w ater and washing water from ships into the  \n",
            " Baltic \n",
            "• to s ee proper rainwater handling. Dumping of  \n",
            " s now into the sea must not be permitted,  \n",
            " either. \n",
            "• t o formulate a compensation model for   \n",
            " s crapping of old boats and motors\n",
            "• to i ncrease the recycling rate in Finland \n",
            "• to p romote a sharing economy through   \n",
            " l egislation and financial instruments \n",
            "• to h ave the environmental burden of products  \n",
            " a nd buildings calculated for their entire life  \n",
            " cycles \n",
            "• to b oost the attention given to the circular  \n",
            " e conomy and sustainable development in  \n",
            " s chool curricula\n",
            "\n",
            "--------------------------------------------\n",
            "\n",
            "page_label: 5\n",
            "file_name: Dataset3_TextC_SFP_election_program_2023.pdf\n",
            "file_path: /content/drive/MyDrive/Colab_Notebooks/HS_Data/Dataset3_TextC_SFP_election_program_2023.pdf\n",
            "file_type: application/pdf\n",
            "file_size: 1466189\n",
            "creation_date: 2024-05-14\n",
            "last_modified_date: 1979-12-31\n",
            "\n",
            "5\n",
            "Dear reader,\n",
            " \n",
            "Freedom is the most precious thing we have. This has especially been driven home to us \n",
            "after Russia’s brutal invasion of Ukraine. At \n",
            "the same time, it is a reminder that noth -\n",
            "ing can be taken for granted. Democracy, human rights and the rule of law must be \n",
            "protected every day. Ultimately it comes \n",
            "down to you and me – all of us who live in this fine land – being able to feel safe in our daily lives and enjoying good health today, tomorrow and in the future. \n",
            " \n",
            "The world is changing. Superpowers are competing for supremacy. There are au -\n",
            "thoritarian nations in which democracy is \n",
            "a curse word, which want to attack us here \n",
            "in the West. They are working to splinter us and to weaken the EU. We shall not let that happen. The world order has been perma -\n",
            "nently redrawn in terms of security policy. \n",
            "It is important to keep the right company.\n",
            " Finland has many strengths: we are known for our reliability, stable institutions, equal -\n",
            "ity and good schools. But we can do better. We are burdened by rising debt and a labour shortage. For the SFP the roadmap is clear: we must build on our strengths and create solutions for tackling our weaknesses. \n",
            " \n",
            "As a liberal, centre-right party, SFP works across the board to achieve a stable, modern Finland that defends the freedom of the in -\n",
            "dividual and every person’s equal value. We say no to hate speech and racism. We will never promote division and polarisation. We want to build society through participation and dialogue.\n",
            " \n",
            "Parliamentary elections will be held in Fin -\n",
            "land on 2 April 2023. The elections will play a huge role in determining the direction our \n",
            "country will take in the next four years. The \n",
            "Covid pandemic left marks, not only finan -\n",
            "cially, but also in our health and wellbeing. Our children and our elderly need special attention now. We want you to rely on a health care system that works when you need it, and to enjoy wellbeing at work. Our \n",
            "companies need an incentivising environ -\n",
            "ment in which they can operate and grow. \n",
            "It should always be more profitable to work than to not. We must strengthen Finland’s \n",
            "competitiveness in order to attract further \n",
            "investment and, thereby, jobs. The cli -\n",
            "mate crisis must be taken very seriously. Solutions are needed nationally as well as globally.\n",
            " \n",
            "We want our children and grandchildren to swim in a clean Baltic Sea. Moving forward we should also be able to eat clean, Finnish \n",
            "food produced by our farmers. The green \n",
            "transition is a huge opportunity for us. Investments into education, research and innovation are therefore also key. \n",
            "I am so thankful to live in this fine land \n",
            "where we can all take part in decision-mak -\n",
            "ing. To vote is to have an influence. And your vote counts. During the current parlia -\n",
            "mentary term, SFP has demonstrated that we are needed in the Finnish government. We have worked constructively and built bridges. We have achieved results. Finland is now on its way into NATO, something we \n",
            "have pushed for. Our contacts with Sweden \n",
            "and the rest of the Nordic region, as well as with the international arena in general, are valuable for our country.\n",
            " \n",
            "A vote for SFP is a vote for security and sta -\n",
            "bility in restless times. A vote for equality, care and economic growth. A vote for the right to be served in one’s mother tongue \n",
            "and for a bilingual Finland! Your voice is \n",
            "needed!\n",
            "Anna-Maja Henriksson\n",
            "Party President\n",
            "\n",
            "--------------------------------------------\n",
            "\n",
            "page_label: 35\n",
            "file_name: Dataset3_TextD_Christian_Democrats_election_program_2023.pdf\n",
            "file_path: /content/drive/MyDrive/Colab_Notebooks/HS_Data/Dataset3_TextD_Christian_Democrats_election_program_2023.pdf\n",
            "file_type: application/pdf\n",
            "file_size: 298406\n",
            "creation_date: 2024-05-14\n",
            "last_modified_date: 2024-05-14\n",
            "\n",
            "result of determined work. Other countries around the Baltic Sea must also take the reduction of emissions from agriculture and fish farming seriously. New challenges are created by the pressure to increase mining operations and, for example, the so-called battery industry. for the needs of the green transition. Responsibility cannot be avoided by moving industry and food production from Finland to countries with weaker environmental standards. In climate protection, emissions must be viewed as a whole. Carbon and biodiversity calculations must take into account the entire life cycle and global effects. In addition to emissions, operational reliability and self-sufficiency must be taken into account in future energy solutions. In addition to curbing climate change, action must be taken to adapt to the changes. Reducing the use of fossil fuels is central to curbing climate change. Finland must not have to pay for the energy policy mistakes of the most prosperous European countries, and our forests must not become a compensation reserve for Central European industry. We do not support income transfer elements such as the climate action social fund. Energy and forest policy must continue to be the responsibility and decision-making power of the EU member states. It makes no sense to build Finland twice. Construction uses half of the world's non-renewable natural resources and generates almost half of all waste. During construction, attention must be paid to life-cycle emissions, repairability, indoor air safety and crisis resistance. Forest policy must improve the diversity of forests. We support sustainable forestry and promote additional funding for the voluntary protection of forests and other natural sites. Efforts must be made to care for and protect habitats in order to prevent the endangerment of species and to restore the vitality of already endangered species. Abundant and vibrant animal populations are not only the goal of conservation but also a prerequisite for hunting. With the help of taxation and standards, consumption should be directed towards more sustainable, healthier and less polluting\n",
            "\n",
            "--------------------------------------------\n",
            "\n",
            "page_label: 34\n",
            "file_name: Dataset3_TextD_Christian_Democrats_election_program_2023.pdf\n",
            "file_path: /content/drive/MyDrive/Colab_Notebooks/HS_Data/Dataset3_TextD_Christian_Democrats_election_program_2023.pdf\n",
            "file_type: application/pdf\n",
            "file_size: 298406\n",
            "creation_date: 2024-05-14\n",
            "last_modified_date: 2024-05-14\n",
            "\n",
            "Life on Earth is an immeasurably great miracle. The Christian Democrats take climate change, the loss of biodiversity and the degradation of habitats seriously. Future generations have the right to life, clean food and the beauty of nature. Respecting nature is also about values and goals in life. A good relationship with nature is born in homes, schools and hobbies, starting with your own yard and the nearby forest, shopping and trash cans. KD's approach to environmental protection is based on the principle of close responsibility: responsibility cannot be outsourced to transnational actors. Cross-border challenges, such as climate change, must be answered through cooperation between countries. Local residents have the greatest interest and expertise in the protection of their immediate environment. It is important to take local opinion into account, for example, in mining issues. The European Union plays a significant role in setting environmental protection standards. For example, by banning the use of harmful chemicals in the EU, the state of the environment can be affected globally. Globally, up to a million species are threatened with extinction, especially in the tropics. Finland and the EU can combat species loss in the tropics, for example, by further reducing the import of soy feed and meat. The effects of the EU agricultural policy's greening programs on the environment and biodiversity have instead been contradictory. Sustainable development is economic, ecological, social and cultural. Poor countries also have the right to development. Through development cooperation, Finland supports developing countries' environmental protection, food security and adaptation to climate change. Pollution knows no boundaries. More attention must be paid to the cleanliness of living environments, chemicalization and the use of pesticides, as well as animal rights, also in global trade negotiations. It is difficult to predict the effects and shelf life of chemicals in nature. The eutrophication of the Baltic Sea must be brought to an end. Environmental pollution has been significantly reduced in Finland, and the condition of inland waterways, for example, has improved as a\n",
            "\n",
            "--------------------------------------------\n",
            "\n",
            "page_label: 38\n",
            "file_name: Dataset3_TextD_Christian_Democrats_election_program_2023.pdf\n",
            "file_path: /content/drive/MyDrive/Colab_Notebooks/HS_Data/Dataset3_TextD_Christian_Democrats_election_program_2023.pdf\n",
            "file_type: application/pdf\n",
            "file_size: 298406\n",
            "creation_date: 2024-05-14\n",
            "last_modified_date: 2024-05-14\n",
            "\n",
            "• A partial tax deduction for development cooperation donations to non-governmental organizations will be introduced. • Promoting the renewal of refugee conventions, e.g. by committing countries to receive their own citizens. • Let's ensure the NATO countries' target level of defense allocations is 2 percent of GDP. • Let's extend invitations to the entire age group and encourage women for voluntary military service, and take into account the different eligibility categories. • Clarifying the official processes between different administrative branches in case of hybrid threats and cyber attacks. We will ensure that the critical ict infrastructure remains in national ownership and the uninterrupted operation of the authority network Virve. • Let's break away from the Ottawa agreement banning anti-personnel mines because of the deterrent effect that can be introduced if necessary. • The resources of the voluntary national defense work and the operating conditions of the reserve will be secured, for example, by taking care of a comprehensive network of shooting ranges. • Strengthening Nordic cooperation as part of NATO's defense planning. Let's figure out the location of NATO's Arctic region competence center in Finland. 3.7. The direction of the European Union needs to be clarified The changed world political situation and various cross-border crises emphasize the importance of European cooperation and unity. At the same time, the stretching of the rules following the corona pandemic has broken up the union's unity. Increasing financial solidarity and regulation reduce trust in the union. The Christian Democrats want to develop the union as a cooperation body of independent states. The fundamental difference in EU policy between the parties is that some want to strengthen central power and\n",
            "\n",
            "--------------------------------------------\n",
            "\n",
            "page_label: 163\n",
            "file_name: Dataset3_TextX_Government_Programme_2023.pdf\n",
            "file_path: /content/drive/MyDrive/Colab_Notebooks/HS_Data/Dataset3_TextX_Government_Programme_2023.pdf\n",
            "file_type: application/pdf\n",
            "file_size: 1199934\n",
            "creation_date: 2024-05-14\n",
            "last_modified_date: 1979-12-31\n",
            "\n",
            "163\n",
            "7.4 Finland will use effective and sustainable means to \n",
            "increase its climate handprint and proceed towards \n",
            "carbon neutrality\n",
            "Finland will make an impact on climate change primarily through effective emissions \n",
            "reduction measures, increased carbon sinks and innovative clean solutions. The use and \n",
            "export of these solutions will replace solutions based on polluting energy sources and raw \n",
            "materials both in Finland and in other countries. Climate measures will be implemented \n",
            "in a manner that is economically, ecologically, socially and regionally sustainable and just. \n",
            "Along with actions to combat climate change and reduce emissions, Finland will promote \n",
            "measures that improve the ability of society to adapt to climate change. Cooperation \n",
            "with other Nordic countries related to climate change mitigation and adaptation will be \n",
            "strengthened.\n",
            "Finland will meet the emissions reduction targets and move towards achieving the \n",
            "carbon neutrality target and carbon negativity in a way that does not increase everyday \n",
            "costs or weaken competitiveness. Achievement of the climate targets will be promoted \n",
            "by concrete measures and effective climate policy at the national and EU levels and with \n",
            "respect to international agreements.\n",
            "One of the priorities of the Government’s climate policy is even faster development of \n",
            "solutions that reduce emissions and capture carbon in industry and energy production. \n",
            "Forest industry, a high level of expertise in technology and the energy use of biomass are \n",
            "creating opportunities for Finland to lead the way in the capture and utilisation of carbon \n",
            "dioxide.\n",
            "Accelerating the transition to a clean economy\n",
            "The government will review the carbon neutrality strategy in connection with drawing \n",
            "up the new climate and energy strategy. One of the priorities of the climate and energy \n",
            "strategy will be for Finland to utilise the opportunities for faster emissions reductions \n",
            "in industry and energy production than anticipated and to take advantage of its \n",
            "potential to capture and further utilise wood-based carbon dioxide, which is among the \n",
            "most significant in Europe. Sector-specific low-carbon roadmaps will be updated. The \n",
            "Government will continuously maintain a situation picture and assessment of actions that \n",
            "are sufficient to meet Finland’s emissions reduction targets and obligations.\n",
            "\n",
            "--------------------------------------------\n",
            "\n",
            "page_label: 149\n",
            "file_name: Dataset3_TextX_Government_Programme_2023.pdf\n",
            "file_path: /content/drive/MyDrive/Colab_Notebooks/HS_Data/Dataset3_TextX_Government_Programme_2023.pdf\n",
            "file_type: application/pdf\n",
            "file_size: 1199934\n",
            "creation_date: 2024-05-14\n",
            "last_modified_date: 1979-12-31\n",
            "\n",
            "149\n",
            "Vision\n",
            "Finland will become a leader in clean energy while maximising its climate handprint. \n",
            "Finland will create clean economic growth at home and replace pollution-generating \n",
            "solutions around the world through technology exports. Finland will increase its share \n",
            "of investments, jobs and value added related to the clean economy. Finland will use its \n",
            "natural resources sustainably to improve its self-sufficiency.\n",
            "The Government is committed to meeting emission reduction targets and moving \n",
            "towards carbon neutrality followed by carbon negativity. At the same time, the \n",
            "Government will ensure that its decisions or policy measures do not increase everyday \n",
            "costs for citizens or weaken the competitiveness of business and industry.\n",
            "The Government will promote effective energy policy in a way that is predictable and \n",
            "takes a long-term view. Finland will strengthen its competitiveness and attractiveness \n",
            "as an investment target for renewable industries by doubling its production of clean \n",
            "electricity. The Government will ensure that electricity and products derived from it \n",
            "remain affordable and reliable with respect to security of supply. Smooth, predictable and \n",
            "legally certain permitting processes will be a competitive advantage for Finland.\n",
            "The Government aims to achieve its targets for annual net emissions by 2030. The \n",
            "Government pledges to draw up a programme by the end of 2024 that will reverse the \n",
            "emissions debt accumulated since the start of the decade.\n",
            "The Government will advance Finland’s position as a frontrunner by developing a new \n",
            "energy and climate strategy aimed at carbon negativity with a key focus on promoting the \n",
            "clean transition and investments in industry. The Government will achieve climate impacts \n",
            "through effective emissions reduction measures, increased carbon sinks and Finnish clean \n",
            "economy solutions. The new energy and climate strategy and technological developments \n",
            "will help generate investments that Finland can use to pay off its emissions debt in the \n",
            "2030s.\n",
            "Finland is committed to the objectives of the Climate Change Act. Achieving the emissions \n",
            "targets will require active measures. The Government will focus its climate action on \n",
            "generating cost-effectiveness, technology neutrality and sustainable business while \n",
            "recognising the importance of a long-term approach across parliamentary terms for \n",
            "attracting investments. To support the achievement of the targets, the Government will \n",
            "adopt a sensible and effective climate policy at the national and EU levels and with respect \n",
            "to international agreements.\n",
            "\n",
            "--------------------------------------------\n",
            "\n",
            "page_label: 164\n",
            "file_name: Dataset3_TextX_Government_Programme_2023.pdf\n",
            "file_path: /content/drive/MyDrive/Colab_Notebooks/HS_Data/Dataset3_TextX_Government_Programme_2023.pdf\n",
            "file_type: application/pdf\n",
            "file_size: 1199934\n",
            "creation_date: 2024-05-14\n",
            "last_modified_date: 1979-12-31\n",
            "\n",
            "164\n",
            "The Government will encourage the selection of clean solutions. Besides emissions, other \n",
            "environmental impacts, for instance on biodiversity and sustainable development, will \n",
            "also be taken into account.\n",
            "The Government, together with business and industry, will promote the creation of a \n",
            "model for calculation positive climate handprints. The potential related to this will be \n",
            "explored and targets will be set for increasing the positive climate handprint of Finnish \n",
            "exports. The achievement of these targets will be monitored alongside carbon footprints. \n",
            "Efforts will be made to incorporate the handprint model into EU legislation alongside the \n",
            "footprint method.\n",
            "Promoting common EU climate targets in a sustainable manner\n",
            "Finland’s climate policy is determined by agreements at the EU level. Within the EU, \n",
            "Finland will work actively and proactively to promote impactful and cost-effective \n",
            "climate and industrial policy that is sensible from the point of view of Finland’s citizens \n",
            "and the country’s sustainable growth and competitive advantage. Finland is committed \n",
            "to implementing EU decisions and international agreements. In this respect, we call for \n",
            "the interpretation of common decisions in a way that is just from the Finnish perspective \n",
            "in situations where these could become unreasonable for Finland. The Government \n",
            "emphasises the importance of cost-effective and technology-neutral emissions reduction \n",
            "measures. The impacts of the emissions reduction targets and measures must be carefully \n",
            "assessed and it must be possible to review the targets in the light of new and more \n",
            "accurate information. Action will be taken to develop the pricing and markets of carbon \n",
            "emissions and sinks.\n",
            "Measures in support of the energy and industrial transition can primarily be seen as \n",
            "emissions reductions in the emissions trading sector, and the development of this will \n",
            "continue. In the emissions trading sector, Finland has reduced its emissions fast. The \n",
            "particular challenges for Finland lie outside the emissions trading system, i.e. in the effort \n",
            "sharing and land use sectors.\n",
            "Effort sharing sector\n",
            "In the effort sharing sector, Finland will promote measures in line with emissions reduction \n",
            "plans or other corresponding measures and, where necessary, seek new measures to \n",
            "respond to the EU obligations cost-effectively. The backlog in emissions reductions in the \n",
            "effort sharing sector will be minimised and the emission targets will be met with respect\n",
            "\n",
            "--------------------------------------------\n",
            "\n"
          ]
        }
      ]
    }
  ],
  "metadata": {
    "accelerator": "GPU",
    "colab": {
      "gpuType": "T4",
      "provenance": [],
      "collapsed_sections": [
        "o9HHmBBEwAj-"
      ]
    },
    "kernelspec": {
      "display_name": "Python 3",
      "name": "python3"
    },
    "language_info": {
      "name": "python"
    }
  },
  "nbformat": 4,
  "nbformat_minor": 0
}